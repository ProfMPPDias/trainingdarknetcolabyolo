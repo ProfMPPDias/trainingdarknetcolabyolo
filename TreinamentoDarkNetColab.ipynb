{
  "nbformat": 4,
  "nbformat_minor": 0,
  "metadata": {
    "colab": {
      "provenance": []
    },
    "kernelspec": {
      "name": "python3",
      "display_name": "Python 3"
    },
    "language_info": {
      "name": "python"
    }
  },
  "cells": [
    {
      "cell_type": "code",
      "source": [
        "# Instalar a biblioteca yolov5 diretamente da ultralytics\n",
        "!pip install yolov5"
      ],
      "metadata": {
        "id": "92QOgmREuzye"
      },
      "execution_count": null,
      "outputs": []
    },
    {
      "cell_type": "code",
      "execution_count": null,
      "metadata": {
        "id": "t4UgV_-Qnldg"
      },
      "outputs": [],
      "source": [
        "# Importar as bibliotecas necessárias\n",
        "import torch\n",
        "import matplotlib.pyplot as plt\n",
        "from PIL import Image\n",
        "from google.colab import files\n",
        "\n",
        "# Carregar o modelo YOLOv5 pré-treinado (YOLOv5s)\n",
        "model = torch.hub.load('ultralytics/yolov5', 'yolov5s', pretrained=True)"
      ]
    },
    {
      "cell_type": "code",
      "source": [
        "# Função para exibir a imagem com o quadrado e o rótulo\n",
        "def display_image_with_box(image_path, model):\n",
        "    # Carregar a imagem\n",
        "    img = Image.open(image_path)\n",
        "\n",
        "    # Realizar a detecção com o modelo YOLOv5\n",
        "    results = model(img)  # YOLOv5 usa esse formato para inferir\n",
        "\n",
        "    # Exibir a imagem com as detecções\n",
        "    results.show()  # Exibe a imagem com o quadrado e o rótulo diretamente\n",
        "\n",
        "# Carregar a imagem diretamente no Google Colab\n",
        "uploaded = files.upload()\n",
        "image_path = next(iter(uploaded))  # Pega o caminho da primeira imagem carregada\n",
        "\n",
        "# Exibir a imagem com o quadrado e o rótulo usando YOLOv5\n",
        "display_image_with_box(image_path, model)"
      ],
      "metadata": {
        "id": "EdlLBXpKnsbK"
      },
      "execution_count": null,
      "outputs": []
    }
  ]
}